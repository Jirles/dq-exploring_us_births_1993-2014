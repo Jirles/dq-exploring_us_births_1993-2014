{
 "cells": [
  {
   "cell_type": "markdown",
   "metadata": {},
   "source": [
    "## CDC Births 1994-2003\n",
    "\n",
    "Documents, challenges come from Dataquest Intro to Python course. This guided project including reading a csv file, calculating number of births per year, month, day of week, and day of month, and included additional challenges to tackle on my free time. The additional challenges will be listed below in a later write-up. A link to the solutions to this lab can be found [here](https://github.com/dataquestio/solutions/blob/master/Mission9Solutions.ipynb).\n",
    "\n",
    "### Structure of CSV File\n",
    "The csv file entitled `US_births_1994-2003_CDC_NCHS.csv`, besides containing comma-separated values, is also split by date by the newline symbol `\\n`. The headers in this file are as follows:\n",
    "\n",
    "- `year`: Four digits denoting year of birth at **index 0**\n",
    "- `month`: one to two digits denoting month of birth at **index 1**\n",
    "- `date_of_month`: one to two digits denoting the date of birth at **index 2**\n",
    "- `day_of_week`: one digits between one and seven, where one is Monday and seven is Sunday at **index 3**\n",
    "- `births`: one integer containing the number of births recorded on that day at **index 4**\n",
    "\n",
    "Each instance of a date thus contains five (5) integers representing the date and the number of births that occurred separated by commas. To facilitate analysis, the file had to be split along the newline breaks and the header line was removed. The resulting list is then manipulated so that each string element representing the date and birth count are split at their commmas, converted into integers and inserted into a new list which is in turn appended to final list of lists that contains all the dates originally listed in the csv file. The code to accomplish this is below."
   ]
  },
  {
   "cell_type": "code",
   "execution_count": 1,
   "metadata": {},
   "outputs": [
    {
     "data": {
      "text/plain": [
       "[[1994, 1, 1, 6, 8096],\n",
       " [1994, 1, 2, 7, 7772],\n",
       " [1994, 1, 3, 1, 10142],\n",
       " [1994, 1, 4, 2, 11248],\n",
       " [1994, 1, 5, 3, 11053],\n",
       " [1994, 1, 6, 4, 11406],\n",
       " [1994, 1, 7, 5, 11251],\n",
       " [1994, 1, 8, 6, 8653],\n",
       " [1994, 1, 9, 7, 7910],\n",
       " [1994, 1, 10, 1, 10498]]"
      ]
     },
     "execution_count": 1,
     "metadata": {},
     "output_type": "execute_result"
    }
   ],
   "source": [
    "def read_csv(file_name):\n",
    "    f = open(file_name, 'r')\n",
    "    a = f.read()\n",
    "    newline = a.split('\\n')\n",
    "    string_list = newline[1:]\n",
    "    final_list = []\n",
    "    for string in string_list:\n",
    "        int_fields = []\n",
    "        string_fields = string.split(',')\n",
    "        for value in string_fields:\n",
    "            number = int(value)\n",
    "            int_fields.append(number)\n",
    "        final_list.append(int_fields)\n",
    "    return final_list\n",
    "\n",
    "\n",
    "cdc_list = read_csv('US_births_1994-2003_CDC_NCHS.csv')\n",
    "cdc_list[0:10]"
   ]
  },
  {
   "cell_type": "code",
   "execution_count": 2,
   "metadata": {},
   "outputs": [],
   "source": [
    "#Calculating the number of births according to different parameters\n",
    "\n",
    "def calc_counts(data, column):\n",
    "    '''\n",
    "    data is a list of lists\n",
    "    column is an integer (index) representing the column by which the births should tallied\n",
    "    function returns a dictionary where the keys are column values and the values are the total births\n",
    "    '''\n",
    "    calc_dict = {}\n",
    "    for item in data:\n",
    "        if item[column] in calc_dict.keys():\n",
    "            calc_dict[item[column]] += item[4]\n",
    "        else:\n",
    "            calc_dict[item[column]] = item[4]\n",
    "    return calc_dict\n",
    "\n",
    "#births/year\n",
    "cdc_year_births = calc_counts(cdc_list, 0)\n",
    "#births/month\n",
    "cdc_month_births = calc_counts(cdc_list, 1)\n",
    "#births/day of the month\n",
    "cdc_dom_births = calc_counts(cdc_list, 2)\n",
    "#births/day of the week\n",
    "cdc_dow_births = calc_counts(cdc_list, 3)"
   ]
  },
  {
   "cell_type": "code",
   "execution_count": 3,
   "metadata": {},
   "outputs": [
    {
     "data": {
      "text/plain": [
       "{1994: 3952767,\n",
       " 1995: 3899589,\n",
       " 1996: 3891494,\n",
       " 1997: 3880894,\n",
       " 1998: 3941553,\n",
       " 1999: 3959417,\n",
       " 2000: 4058814,\n",
       " 2001: 4025933,\n",
       " 2002: 4021726,\n",
       " 2003: 4089950}"
      ]
     },
     "execution_count": 3,
     "metadata": {},
     "output_type": "execute_result"
    }
   ],
   "source": [
    "cdc_year_births"
   ]
  },
  {
   "cell_type": "code",
   "execution_count": 4,
   "metadata": {},
   "outputs": [
    {
     "data": {
      "text/plain": [
       "{1: 3232517,\n",
       " 2: 3018140,\n",
       " 3: 3322069,\n",
       " 4: 3185314,\n",
       " 5: 3350907,\n",
       " 6: 3296530,\n",
       " 7: 3498783,\n",
       " 8: 3525858,\n",
       " 9: 3439698,\n",
       " 10: 3378814,\n",
       " 11: 3171647,\n",
       " 12: 3301860}"
      ]
     },
     "execution_count": 4,
     "metadata": {},
     "output_type": "execute_result"
    }
   ],
   "source": [
    "cdc_month_births"
   ]
  },
  {
   "cell_type": "code",
   "execution_count": 5,
   "metadata": {},
   "outputs": [
    {
     "ename": "TypeError",
     "evalue": "unhashable type: 'slice'",
     "output_type": "error",
     "traceback": [
      "\u001b[0;31m---------------------------------------------------------------------------\u001b[0m",
      "\u001b[0;31mTypeError\u001b[0m                                 Traceback (most recent call last)",
      "\u001b[0;32m<ipython-input-5-31d84b17c824>\u001b[0m in \u001b[0;36m<module>\u001b[0;34m()\u001b[0m\n\u001b[0;32m----> 1\u001b[0;31m \u001b[0mcdc_dom_births\u001b[0m\u001b[0;34m[\u001b[0m\u001b[0;36m0\u001b[0m\u001b[0;34m:\u001b[0m\u001b[0;36m10\u001b[0m\u001b[0;34m]\u001b[0m\u001b[0;34m\u001b[0m\u001b[0m\n\u001b[0m",
      "\u001b[0;31mTypeError\u001b[0m: unhashable type: 'slice'"
     ]
    }
   ],
   "source": [
    "cdc_dom_births[0:10]"
   ]
  },
  {
   "cell_type": "markdown",
   "metadata": {},
   "source": [
    "## Additional Work\n",
    "\n",
    "After conditioning the data and writing a function to total the births per column, Dataquest suggested work for further practice. Their suggestions are: \n",
    "\n",
    "1. Write a function that can calculate the min and max values for any dictionary that's passed in.\n",
    "\n",
    "2. Write a function that extracts the same values across years and calculates the differences between consecutive values to show if number of births is increasing or decreasing.\n",
    "    1. For example, how did the number of births on Saturday change each year between 1994 and 2003?\n",
    "\n",
    "3. Find a way to combine the CDC data with the SSA data (another csv file downloaded with the CDC file, but which covers the years 2000-2014). Specifically, brainstorm ways to deal with the overlapping time periods in the datasets.\n"
   ]
  },
  {
   "cell_type": "code",
   "execution_count": 6,
   "metadata": {},
   "outputs": [],
   "source": [
    "def minimum_calc(dict):\n",
    "    temp = []\n",
    "    for value in dict.values():\n",
    "        temp.append(value)\n",
    "    return min(temp)\n",
    "\n",
    "def maximum_calc(dict):\n",
    "    temp = []\n",
    "    for value in dict.values():\n",
    "        temp.append(value)\n",
    "    return max(temp)\n",
    "\n",
    "cdc_month_births_min = minimum_calc(cdc_month_births)"
   ]
  },
  {
   "cell_type": "code",
   "execution_count": 7,
   "metadata": {},
   "outputs": [
    {
     "data": {
      "text/plain": [
       "3018140"
      ]
     },
     "execution_count": 7,
     "metadata": {},
     "output_type": "execute_result"
    }
   ],
   "source": [
    "cdc_month_births_min"
   ]
  },
  {
   "cell_type": "code",
   "execution_count": 8,
   "metadata": {},
   "outputs": [
    {
     "data": {
      "text/plain": [
       "3525858"
      ]
     },
     "execution_count": 8,
     "metadata": {},
     "output_type": "execute_result"
    }
   ],
   "source": [
    "cdc_month_births_max = maximum_calc(cdc_month_births)\n",
    "cdc_month_births_max"
   ]
  },
  {
   "cell_type": "code",
   "execution_count": 9,
   "metadata": {},
   "outputs": [
    {
     "ename": "TypeError",
     "evalue": "'dict_keys' object does not support indexing",
     "output_type": "error",
     "traceback": [
      "\u001b[0;31m---------------------------------------------------------------------------\u001b[0m",
      "\u001b[0;31mTypeError\u001b[0m                                 Traceback (most recent call last)",
      "\u001b[0;32m<ipython-input-9-597a8a831112>\u001b[0m in \u001b[0;36m<module>\u001b[0;34m()\u001b[0m\n\u001b[1;32m     34\u001b[0m \u001b[0;31m# how did the number of births on Saturday change each year between 1994 and 2003\u001b[0m\u001b[0;34m\u001b[0m\u001b[0;34m\u001b[0m\u001b[0m\n\u001b[1;32m     35\u001b[0m \u001b[0;31m# Saturday = 6, dow = column (index) 3\u001b[0m\u001b[0;34m\u001b[0m\u001b[0;34m\u001b[0m\u001b[0m\n\u001b[0;32m---> 36\u001b[0;31m \u001b[0mcdc_Sat_percent_change\u001b[0m \u001b[0;34m=\u001b[0m \u001b[0mpercentage_change_calc\u001b[0m\u001b[0;34m(\u001b[0m\u001b[0mcdc_list\u001b[0m\u001b[0;34m,\u001b[0m \u001b[0;36m6\u001b[0m\u001b[0;34m,\u001b[0m \u001b[0;36m3\u001b[0m\u001b[0;34m)\u001b[0m\u001b[0;34m\u001b[0m\u001b[0m\n\u001b[0m",
      "\u001b[0;32m<ipython-input-9-597a8a831112>\u001b[0m in \u001b[0;36mpercentage_change_calc\u001b[0;34m(data, date_value, column_index)\u001b[0m\n\u001b[1;32m     27\u001b[0m     \u001b[0;32mwhile\u001b[0m \u001b[0mindex\u001b[0m\u001b[0;34m+\u001b[0m\u001b[0;36m1\u001b[0m \u001b[0;34m<\u001b[0m \u001b[0mlen\u001b[0m\u001b[0;34m(\u001b[0m\u001b[0mtotals\u001b[0m\u001b[0;34m.\u001b[0m\u001b[0mkeys\u001b[0m\u001b[0;34m(\u001b[0m\u001b[0;34m)\u001b[0m\u001b[0;34m)\u001b[0m\u001b[0;34m:\u001b[0m\u001b[0;34m\u001b[0m\u001b[0m\n\u001b[1;32m     28\u001b[0m         \u001b[0;31m#rounding percentages to 2 decimal places\u001b[0m\u001b[0;34m\u001b[0m\u001b[0;34m\u001b[0m\u001b[0m\n\u001b[0;32m---> 29\u001b[0;31m         \u001b[0mpercentages\u001b[0m\u001b[0;34m[\u001b[0m\u001b[0mtotals\u001b[0m\u001b[0;34m.\u001b[0m\u001b[0mkeys\u001b[0m\u001b[0;34m(\u001b[0m\u001b[0;34m)\u001b[0m\u001b[0;34m[\u001b[0m\u001b[0mindex\u001b[0m\u001b[0;34m+\u001b[0m\u001b[0;36m1\u001b[0m\u001b[0;34m]\u001b[0m\u001b[0;34m]\u001b[0m \u001b[0;34m=\u001b[0m \u001b[0mround\u001b[0m\u001b[0;34m(\u001b[0m\u001b[0;34m(\u001b[0m\u001b[0mtotals\u001b[0m\u001b[0;34m[\u001b[0m\u001b[0;34m[\u001b[0m\u001b[0mtotals\u001b[0m\u001b[0;34m.\u001b[0m\u001b[0mkeys\u001b[0m\u001b[0;34m(\u001b[0m\u001b[0;34m)\u001b[0m\u001b[0;34m[\u001b[0m\u001b[0mindex\u001b[0m\u001b[0;34m+\u001b[0m\u001b[0;36m1\u001b[0m\u001b[0;34m]\u001b[0m\u001b[0;34m]\u001b[0m\u001b[0;34m]\u001b[0m \u001b[0;34m-\u001b[0m \u001b[0mtotals\u001b[0m\u001b[0;34m[\u001b[0m\u001b[0;34m[\u001b[0m\u001b[0mtotals\u001b[0m\u001b[0;34m.\u001b[0m\u001b[0mkeys\u001b[0m\u001b[0;34m(\u001b[0m\u001b[0;34m)\u001b[0m\u001b[0;34m[\u001b[0m\u001b[0mindex\u001b[0m\u001b[0;34m]\u001b[0m\u001b[0;34m]\u001b[0m\u001b[0;34m]\u001b[0m\u001b[0;34m)\u001b[0m\u001b[0;34m/\u001b[0m\u001b[0mtotals\u001b[0m\u001b[0;34m[\u001b[0m\u001b[0;34m[\u001b[0m\u001b[0mtotals\u001b[0m\u001b[0;34m.\u001b[0m\u001b[0mkeys\u001b[0m\u001b[0;34m(\u001b[0m\u001b[0;34m)\u001b[0m\u001b[0;34m[\u001b[0m\u001b[0mindex\u001b[0m\u001b[0;34m]\u001b[0m\u001b[0;34m]\u001b[0m\u001b[0;34m]\u001b[0m\u001b[0;34m,\u001b[0m \u001b[0;36m2\u001b[0m\u001b[0;34m)\u001b[0m\u001b[0;34m\u001b[0m\u001b[0m\n\u001b[0m\u001b[1;32m     30\u001b[0m         \u001b[0mindex\u001b[0m \u001b[0;34m+=\u001b[0m \u001b[0;36m1\u001b[0m\u001b[0;34m\u001b[0m\u001b[0m\n\u001b[1;32m     31\u001b[0m     \u001b[0;32mreturn\u001b[0m \u001b[0mpercentages\u001b[0m\u001b[0;34m\u001b[0m\u001b[0m\n",
      "\u001b[0;31mTypeError\u001b[0m: 'dict_keys' object does not support indexing"
     ]
    }
   ],
   "source": [
    "def percentage_change_calc(data, date_value, column_index):\n",
    "    '''\n",
    "    function that extracts the same values across years and calculates the differences between consecutive values \n",
    "    to show if number of births is increasing or decreasing\n",
    "    \n",
    "    data: list of lists\n",
    "    date_value: integer that stands for the date value by which one wishes to calculate percentages; for example, 3\n",
    "        would represent March if one was looking at months\n",
    "    column_index: postive integer representing the column in which the constraint is located\n",
    "    function returns a dictionary where the keys are years and the values are the percentage change between the key\n",
    "    year and the year previous.\n",
    "    '''\n",
    "    totals = {}\n",
    "    percentages = {}\n",
    "    #iterate over data to get into each list containing date data\n",
    "    for item in data:\n",
    "        #find those dates that have the same year(at index 0) and constraint at the column index\n",
    "        #will need to add totals together per year\n",
    "        if item[column_index] == date_value:\n",
    "            if item[0] in totals.keys():\n",
    "                totals[item[0]] += item[4]\n",
    "            else:\n",
    "                totals[item[0]] = item[4]\n",
    "    #then will need to go through totals to calculate percentages, add percentages, limit to 2 decimal places, to \n",
    "    #percentages according to year, note that the first year (1994 in this case) will not be included\n",
    "    index = 0\n",
    "    while index+1 < len(totals.keys()):\n",
    "        #rounding percentages to 2 decimal places\n",
    "        percentages[totals.keys()[index+1]] = round((totals[[totals.keys()[index+1]]] - totals[[totals.keys()[index]]])/totals[[totals.keys()[index]]], 2)\n",
    "        index += 1\n",
    "    return percentages\n",
    "    \n",
    "# initially trying to answer this question: \n",
    "# how did the number of births on Saturday change each year between 1994 and 2003\n",
    "# Saturday = 6, dow = column (index) 3\n",
    "cdc_Sat_percent_change = percentage_change_calc(cdc_list, 6, 3)"
   ]
  },
  {
   "cell_type": "code",
   "execution_count": 10,
   "metadata": {},
   "outputs": [
    {
     "data": {
      "text/plain": [
       "{1: 3232517,\n",
       " 2: 3018140,\n",
       " 3: 3322069,\n",
       " 4: 3185314,\n",
       " 5: 3350907,\n",
       " 6: 3296530,\n",
       " 7: 3498783,\n",
       " 8: 3525858,\n",
       " 9: 3439698,\n",
       " 10: 3378814,\n",
       " 11: 3171647,\n",
       " 12: 3301860}"
      ]
     },
     "execution_count": 10,
     "metadata": {},
     "output_type": "execute_result"
    }
   ],
   "source": [
    "#testing some key things to fix above function\n",
    "test_keys = cdc_month_births.keys()\n",
    "cdc_month_births"
   ]
  },
  {
   "cell_type": "code",
   "execution_count": 11,
   "metadata": {},
   "outputs": [
    {
     "data": {
      "text/plain": [
       "dict_keys([1, 2, 3, 4, 5, 6, 7, 8, 9, 10, 11, 12])"
      ]
     },
     "execution_count": 11,
     "metadata": {},
     "output_type": "execute_result"
    }
   ],
   "source": [
    "test_keys"
   ]
  },
  {
   "cell_type": "code",
   "execution_count": 12,
   "metadata": {},
   "outputs": [
    {
     "ename": "TypeError",
     "evalue": "'dict_keys' object does not support indexing",
     "output_type": "error",
     "traceback": [
      "\u001b[0;31m---------------------------------------------------------------------------\u001b[0m",
      "\u001b[0;31mTypeError\u001b[0m                                 Traceback (most recent call last)",
      "\u001b[0;32m<ipython-input-12-44112eac57b5>\u001b[0m in \u001b[0;36m<module>\u001b[0;34m()\u001b[0m\n\u001b[0;32m----> 1\u001b[0;31m \u001b[0mtest_keys\u001b[0m\u001b[0;34m[\u001b[0m\u001b[0;36m0\u001b[0m\u001b[0;34m]\u001b[0m\u001b[0;34m\u001b[0m\u001b[0m\n\u001b[0m",
      "\u001b[0;31mTypeError\u001b[0m: 'dict_keys' object does not support indexing"
     ]
    }
   ],
   "source": [
    "test_keys[0]"
   ]
  },
  {
   "cell_type": "code",
   "execution_count": 18,
   "metadata": {},
   "outputs": [
    {
     "data": {
      "text/plain": [
       "[1, 2, 3, 4, 5, 6, 7, 8, 9, 10, 11, 12]"
      ]
     },
     "execution_count": 18,
     "metadata": {},
     "output_type": "execute_result"
    }
   ],
   "source": [
    "test_keys_array = []\n",
    "for key in cdc_month_births.keys():\n",
    "    test_keys_array.append(key)\n",
    "\n",
    "test_keys_array\n",
    "    "
   ]
  },
  {
   "cell_type": "code",
   "execution_count": 23,
   "metadata": {},
   "outputs": [
    {
     "data": {
      "text/plain": [
       "[1, 2, 3, 4, 5, 6, 7, 8, 9, 10, 11, 12]"
      ]
     },
     "execution_count": 23,
     "metadata": {},
     "output_type": "execute_result"
    }
   ],
   "source": [
    "list(cdc_month_births)"
   ]
  },
  {
   "cell_type": "code",
   "execution_count": 19,
   "metadata": {},
   "outputs": [],
   "source": [
    "def percentage_change_calc(data, date_value, column_index):\n",
    "    '''\n",
    "    function that extracts the same values across years and calculates the differences between consecutive values \n",
    "    to show if number of births is increasing or decreasing\n",
    "    \n",
    "    data: list of lists\n",
    "    date_value: integer that stands for the date value by which one wishes to calculate percentages; for example, 3\n",
    "        would represent March if one was looking at months\n",
    "    column_index: postive integer representing the column in which the constraint is located\n",
    "    function returns a dictionary where the keys are years and the values are the percentage change between the key\n",
    "    year and the year previous.\n",
    "    '''\n",
    "    totals = {}\n",
    "    percentages = {}\n",
    "    #iterate over data to get into each list containing date data\n",
    "    for item in data:\n",
    "        #find those dates that have the same year(at index 0) and constraint at the column index\n",
    "        #will need to add totals together per year\n",
    "        if item[column_index] == date_value:\n",
    "            if item[0] in totals.keys():\n",
    "                totals[item[0]] += item[4]\n",
    "            else:\n",
    "                totals[item[0]] = item[4]\n",
    "    #then will need to go through totals to calculate percentages, add percentages, limit to 2 decimal places, to \n",
    "    #percentages according to year, note that the first year (1994 in this case) will not be included\n",
    "    totals_keys = list(totals) # creates list of keys that can be indexed into\n",
    "    index = 0\n",
    "    while index+1 < len(totals_keys):\n",
    "        #rounding percentages to 2 decimal places\n",
    "        percentages[totals_keys[index+1]] = round((totals[totals_keys[index+1]] - totals[totals_keys[index]])/totals[totals_keys[index]], 2)\n",
    "        index += 1 \n",
    "    return percentages\n",
    "    \n",
    "# initially trying to answer this question: \n",
    "# how did the number of births on Saturday change each year between 1994 and 2003\n",
    "# Saturday = 6, dow = column (index) 3\n",
    "cdc_Sat_percent_change = percentage_change_calc(cdc_list, 6, 3)"
   ]
  },
  {
   "cell_type": "code",
   "execution_count": 20,
   "metadata": {},
   "outputs": [
    {
     "data": {
      "text/plain": [
       "{1995: -0.03,\n",
       " 1996: -0.01,\n",
       " 1997: -0.01,\n",
       " 1998: 0.01,\n",
       " 1999: -0.01,\n",
       " 2000: 0.04,\n",
       " 2001: -0.03,\n",
       " 2002: -0.02,\n",
       " 2003: 0.0}"
      ]
     },
     "execution_count": 20,
     "metadata": {},
     "output_type": "execute_result"
    }
   ],
   "source": [
    "cdc_Sat_percent_change"
   ]
  },
  {
   "cell_type": "code",
   "execution_count": 24,
   "metadata": {},
   "outputs": [
    {
     "data": {
      "text/plain": [
       "{1: 5789166,\n",
       " 2: 6446196,\n",
       " 3: 6322855,\n",
       " 4: 6288429,\n",
       " 5: 6233657,\n",
       " 6: 4562111,\n",
       " 7: 4079723}"
      ]
     },
     "execution_count": 24,
     "metadata": {},
     "output_type": "execute_result"
    }
   ],
   "source": [
    "cdc_dow_births"
   ]
  },
  {
   "cell_type": "code",
   "execution_count": 25,
   "metadata": {},
   "outputs": [
    {
     "data": {
      "text/plain": [
       "{1994: 474732,\n",
       " 1995: 459580,\n",
       " 1996: 456261,\n",
       " 1997: 450840,\n",
       " 1998: 453776,\n",
       " 1999: 449985,\n",
       " 2000: 469794,\n",
       " 2001: 453928,\n",
       " 2002: 445770,\n",
       " 2003: 447445}"
      ]
     },
     "execution_count": 25,
     "metadata": {},
     "output_type": "execute_result"
    }
   ],
   "source": [
    "#essentially the totals list from the percentage_change_ calc function\n",
    "totals = {}   \n",
    "for item in cdc_list:\n",
    "    if item[3] == 6:\n",
    "        if item[0] in totals.keys():\n",
    "            totals[item[0]] += item[4]\n",
    "        else:\n",
    "            totals[item[0]] = item[4]\n",
    "totals"
   ]
  },
  {
   "cell_type": "code",
   "execution_count": 3,
   "metadata": {},
   "outputs": [
    {
     "ename": "NameError",
     "evalue": "name 'cdc_list' is not defined",
     "output_type": "error",
     "traceback": [
      "\u001b[0;31m---------------------------------------------------------------------------\u001b[0m",
      "\u001b[0;31mNameError\u001b[0m                                 Traceback (most recent call last)",
      "\u001b[0;32m<ipython-input-3-4b375a46d4e6>\u001b[0m in \u001b[0;36m<module>\u001b[0;34m()\u001b[0m\n\u001b[1;32m     32\u001b[0m \u001b[0;34m\u001b[0m\u001b[0m\n\u001b[1;32m     33\u001b[0m \u001b[0;31m# Saturday = 6, dow = column (index) 3\u001b[0m\u001b[0;34m\u001b[0m\u001b[0;34m\u001b[0m\u001b[0m\n\u001b[0;32m---> 34\u001b[0;31m \u001b[0mcdc_Sat_percent_change\u001b[0m \u001b[0;34m=\u001b[0m \u001b[0mpercentage_change_calc\u001b[0m\u001b[0;34m(\u001b[0m\u001b[0mcdc_list\u001b[0m\u001b[0;34m,\u001b[0m \u001b[0;36m6\u001b[0m\u001b[0;34m,\u001b[0m \u001b[0;36m3\u001b[0m\u001b[0;34m)\u001b[0m\u001b[0;34m\u001b[0m\u001b[0m\n\u001b[0m",
      "\u001b[0;31mNameError\u001b[0m: name 'cdc_list' is not defined"
     ]
    }
   ],
   "source": [
    "#after some calculations with the calculator to check code, changing percentage_change_calc function to \n",
    "#round to 4 decimal places and multiplying by 100 to get proper percentage\n",
    "#also deleting a lot of pseudocode \n",
    "def percentage_change_calc(data, date_value, column_index):\n",
    "    '''\n",
    "    function that extracts the same values across years and calculates the differences between consecutive values \n",
    "    to show if number of births is increasing or decreasing\n",
    "    \n",
    "    data: list of lists\n",
    "    date_value: integer that stands for the date value by which one wishes to calculate percentages; for example, 3\n",
    "        would represent March if one was looking at months\n",
    "    column_index: postive integer representing the column in which the constraint is located\n",
    "    \n",
    "    function returns a dictionary where the keys are years and the values are the percentage change between the key\n",
    "    year and the year previous\n",
    "    '''\n",
    "    totals = {}\n",
    "    percentages = {}\n",
    "    for item in data:\n",
    "        if item[column_index] == date_value:\n",
    "            if item[0] in totals.keys():\n",
    "                totals[item[0]] += item[4]\n",
    "            else:\n",
    "                totals[item[0]] = item[4]\n",
    "    totals_keys = list(totals) # creates list of keys that can be indexed into\n",
    "    index = 0\n",
    "    while index+1 < len(totals_keys):\n",
    "        #rounding percentages to 3 decimal places\n",
    "        percentages[totals_keys[index+1]] = round((totals[totals_keys[index+1]] - totals[totals_keys[index]])/totals[totals_keys[index]], 3)*100\n",
    "        index += 1 \n",
    "    return percentages\n",
    "\n",
    "# Saturday = 6, dow = column (index) 3\n",
    "cdc_Sat_percent_change = percentage_change_calc(cdc_list, 6, 3)"
   ]
  },
  {
   "cell_type": "code",
   "execution_count": 4,
   "metadata": {},
   "outputs": [
    {
     "ename": "NameError",
     "evalue": "name 'read_csv' is not defined",
     "output_type": "error",
     "traceback": [
      "\u001b[0;31m---------------------------------------------------------------------------\u001b[0m",
      "\u001b[0;31mNameError\u001b[0m                                 Traceback (most recent call last)",
      "\u001b[0;32m<ipython-input-4-e3aa445631e6>\u001b[0m in \u001b[0;36m<module>\u001b[0;34m()\u001b[0m\n\u001b[0;32m----> 1\u001b[0;31m \u001b[0mcds_data_list\u001b[0m \u001b[0;34m=\u001b[0m \u001b[0mread_csv\u001b[0m\u001b[0;34m(\u001b[0m\u001b[0;34m'US_births_1994-2003_CDC_NCHS.csv'\u001b[0m\u001b[0;34m)\u001b[0m\u001b[0;34m\u001b[0m\u001b[0m\n\u001b[0m",
      "\u001b[0;31mNameError\u001b[0m: name 'read_csv' is not defined"
     ]
    }
   ],
   "source": [
    "cds_data_list = read_csv('US_births_1994-2003_CDC_NCHS.csv')"
   ]
  },
  {
   "cell_type": "markdown",
   "metadata": {},
   "source": [
    "## Merging Data Sets\n",
    "\n",
    "The final task from the Dataquest mission was to find a way to merge the cdc and ssa datasets:\n",
    "\n",
    "* Find a way to combine the CDC data with the SSA data (another csv file downloaded with the CDC file, but which covers the years 2000-2014). **Specifically, brainstorm ways to deal with the overlapping time periods in the datasets.**\n",
    "\n",
    "#### Ideas\n",
    "\n",
    "1. Use current functions to create dictionaries of the two data sets then play around with the years that overlap. \n",
    "    1. Could average the two results. (I like this one best)\n",
    "    2. Could display values as a range.\n",
    "    3. Could have one of the datasets be dominant. (I don't really like this option)\n",
    "2. Alter lists in beginning so that the cdc and ssa data are read into the same file.\n",
    "    1. But would that be problematic from a data providence point of view? I still have the csv's..."
   ]
  },
  {
   "cell_type": "code",
   "execution_count": 5,
   "metadata": {},
   "outputs": [],
   "source": [
    "#Function reload. \n",
    "def read_csv(file_name):\n",
    "    f = open(file_name, 'r')\n",
    "    a = f.read()\n",
    "    newline = a.split('\\n')\n",
    "    string_list = newline[1:]\n",
    "    final_list = []\n",
    "    for string in string_list:\n",
    "        int_fields = []\n",
    "        string_fields = string.split(',')\n",
    "        for value in string_fields:\n",
    "            number = int(value)\n",
    "            int_fields.append(number)\n",
    "        final_list.append(int_fields)\n",
    "    return final_list\n",
    "\n",
    "def calc_counts(data, column):\n",
    "    '''\n",
    "    data is a list of lists\n",
    "    column is an integer (index) representing the column by which the births should tallied\n",
    "    function returns a dictionary where the keys are column values and the values are the total births\n",
    "    '''\n",
    "    calc_dict = {}\n",
    "    for item in data:\n",
    "        if item[column] in calc_dict.keys():\n",
    "            calc_dict[item[column]] += item[4]\n",
    "        else:\n",
    "            calc_dict[item[column]] = item[4]\n",
    "    return calc_dict\n",
    "\n",
    "def minimum_calc(dict):\n",
    "    temp = []\n",
    "    for value in dict.values():\n",
    "        temp.append(value)\n",
    "    return min(temp)\n",
    "\n",
    "def maximum_calc(dict):\n",
    "    temp = []\n",
    "    for value in dict.values():\n",
    "        temp.append(value)\n",
    "    return max(temp)\n",
    "\n",
    "def percentage_change_calc(data, date_value, column_index):\n",
    "    '''\n",
    "    function that extracts the same values across years and calculates the differences between consecutive values \n",
    "    to show if number of births is increasing or decreasing\n",
    "    \n",
    "    data: list of lists\n",
    "    date_value: integer that stands for the date value by which one wishes to calculate percentages; for example, 3\n",
    "        would represent March if one was looking at months\n",
    "    column_index: postive integer representing the column in which the constraint is located\n",
    "    \n",
    "    function returns a dictionary where the keys are years and the values are the percentage change between the key\n",
    "    year and the year previous\n",
    "    '''\n",
    "    totals = {}\n",
    "    percentages = {}\n",
    "    for item in data:\n",
    "        if item[column_index] == date_value:\n",
    "            if item[0] in totals.keys():\n",
    "                totals[item[0]] += item[4]\n",
    "            else:\n",
    "                totals[item[0]] = item[4]\n",
    "    totals_keys = list(totals) # creates list of keys that can be indexed into\n",
    "    index = 0\n",
    "    while index+1 < len(totals_keys):\n",
    "        #rounding percentages to 3 decimal places\n",
    "        percentages[totals_keys[index+1]] = round((totals[totals_keys[index+1]] - totals[totals_keys[index]])/totals[totals_keys[index]], 3)*100\n",
    "        index += 1 \n",
    "    return percentages"
   ]
  },
  {
   "cell_type": "code",
   "execution_count": 6,
   "metadata": {},
   "outputs": [],
   "source": [
    "cdc_data = read_csv('US_births_1994-2003_CDC_NCHS.csv')\n",
    "ssa_data = read_csv('US_births_2000-2014_SSA.csv')"
   ]
  },
  {
   "cell_type": "code",
   "execution_count": 7,
   "metadata": {},
   "outputs": [
    {
     "data": {
      "text/plain": [
       "[[1994, 1, 1, 6, 8096],\n",
       " [1994, 1, 2, 7, 7772],\n",
       " [1994, 1, 3, 1, 10142],\n",
       " [1994, 1, 4, 2, 11248],\n",
       " [1994, 1, 5, 3, 11053],\n",
       " [1994, 1, 6, 4, 11406],\n",
       " [1994, 1, 7, 5, 11251],\n",
       " [1994, 1, 8, 6, 8653],\n",
       " [1994, 1, 9, 7, 7910],\n",
       " [1994, 1, 10, 1, 10498]]"
      ]
     },
     "execution_count": 7,
     "metadata": {},
     "output_type": "execute_result"
    }
   ],
   "source": [
    "cdc_data[0:10]"
   ]
  },
  {
   "cell_type": "code",
   "execution_count": 8,
   "metadata": {},
   "outputs": [
    {
     "data": {
      "text/plain": [
       "[[2000, 1, 1, 6, 9083],\n",
       " [2000, 1, 2, 7, 8006],\n",
       " [2000, 1, 3, 1, 11363],\n",
       " [2000, 1, 4, 2, 13032],\n",
       " [2000, 1, 5, 3, 12558],\n",
       " [2000, 1, 6, 4, 12466],\n",
       " [2000, 1, 7, 5, 12516],\n",
       " [2000, 1, 8, 6, 8934],\n",
       " [2000, 1, 9, 7, 7949],\n",
       " [2000, 1, 10, 1, 11668]]"
      ]
     },
     "execution_count": 8,
     "metadata": {},
     "output_type": "execute_result"
    }
   ],
   "source": [
    "ssa_data[0:10]"
   ]
  },
  {
   "cell_type": "code",
   "execution_count": 28,
   "metadata": {},
   "outputs": [],
   "source": [
    "def calc_total_sec_arg(data, group_by_index, count_index, count_value):\n",
    "    '''\n",
    "    data: list of lists\n",
    "    group_by_index: integer, index by which to group data totals, serve as keys in totals dictionary; name take from \n",
    "    GROUP BY SQL command\n",
    "    count_index: integer, secondary index by which totals are calculated; name taken from COUNT SQL command\n",
    "    count_value: integer, condition to be met to supplement totals; name taken from COUNT SQL command\n",
    "    \n",
    "    function returns a dictionary a totals calculated by the count_value and grouped by the group_by_index. \n",
    "    function should be used in lieu of calc_counts when an additional arg is needed to parse data, e.g. calculating\n",
    "        how many births occured in Jan between 1994 and 2003.\n",
    "    '''\n",
    "    totals = {}\n",
    "    for item in data:\n",
    "        if item[count_index] == count_value:\n",
    "            if item[group_by_index] in totals.keys():\n",
    "                totals[item[group_by_index]] += item[4]\n",
    "            else:\n",
    "                totals[item[group_by_index]] = item[4]\n",
    "    return totals"
   ]
  },
  {
   "cell_type": "code",
   "execution_count": 37,
   "metadata": {},
   "outputs": [],
   "source": [
    "def percentage_change_test(input_dict):\n",
    "    '''\n",
    "    function that extracts the same values across years and calculates the differences between consecutive values \n",
    "    to show if number of births is increasing or decreasing\n",
    "    \n",
    "    data: list of lists\n",
    "    date_value: integer that stands for the date value by which one wishes to calculate percentages; for example, 3\n",
    "        would represent March if one was looking at months\n",
    "    column_index: postive integer representing the column in which the constraint is located\n",
    "    \n",
    "    function returns a dictionary where the keys are years and the values are the percentage change between the key\n",
    "    year and the year previous\n",
    "    '''\n",
    "    percentages = {}\n",
    "    keys_list = list(input_dict) # creates list of keys that can be indexed into\n",
    "    index = 0\n",
    "    while index+1 < len(keys_list):\n",
    "        #rounding percentages to 3 decimal places\n",
    "        percentages[keys_list[index+1]] = round((input_dict[keys_list[index+1]] - input_dict[keys_list[index]])/input_dict[keys_list[index]], 3)*100\n",
    "        index += 1 \n",
    "    return percentages"
   ]
  },
  {
   "cell_type": "code",
   "execution_count": 36,
   "metadata": {},
   "outputs": [
    {
     "data": {
      "text/plain": [
       "{1995: -3.2,\n",
       " 1996: -0.7000000000000001,\n",
       " 1997: -1.2,\n",
       " 1998: 0.7000000000000001,\n",
       " 1999: -0.8,\n",
       " 2000: 4.3999999999999995,\n",
       " 2001: -3.4000000000000004,\n",
       " 2002: -1.7999999999999998,\n",
       " 2003: 0.4}"
      ]
     },
     "execution_count": 36,
     "metadata": {},
     "output_type": "execute_result"
    }
   ],
   "source": [
    "# Saturday = 6, dow = column (index) 3\n",
    "cdc_Sat_percent_current = percentage_change_calc(cdc_data, 6, 3)\n",
    "cdc_Sat_percent_current"
   ]
  },
  {
   "cell_type": "code",
   "execution_count": 39,
   "metadata": {},
   "outputs": [],
   "source": [
    "cdc_Sat_percent_test = percentage_change_test(calc_total_sec_arg(cdc_data, 0, 3, 6))"
   ]
  },
  {
   "cell_type": "code",
   "execution_count": 40,
   "metadata": {},
   "outputs": [
    {
     "data": {
      "text/plain": [
       "{1995: -3.2,\n",
       " 1996: -0.7000000000000001,\n",
       " 1997: -1.2,\n",
       " 1998: 0.7000000000000001,\n",
       " 1999: -0.8,\n",
       " 2000: 4.3999999999999995,\n",
       " 2001: -3.4000000000000004,\n",
       " 2002: -1.7999999999999998,\n",
       " 2003: 0.4}"
      ]
     },
     "execution_count": 40,
     "metadata": {},
     "output_type": "execute_result"
    }
   ],
   "source": [
    "cdc_Sat_percent_test"
   ]
  },
  {
   "cell_type": "code",
   "execution_count": 41,
   "metadata": {},
   "outputs": [],
   "source": [
    "#updating function list to include calc_total_sec_arg (really ugly-ass name) \n",
    "#simplifies calculating percentage changes function so that it only takes in a dictionary\n",
    "def percentage_change_calc(input_dict):\n",
    "    '''\n",
    "    function that extracts the same values across years and calculates the differences between consecutive values \n",
    "    to show if number of births is increasing or decreasing\n",
    "    \n",
    "    data: list of lists\n",
    "    date_value: integer that stands for the date value by which one wishes to calculate percentages; for example, 3\n",
    "        would represent March if one was looking at months\n",
    "    column_index: postive integer representing the column in which the constraint is located\n",
    "    \n",
    "    function returns a dictionary where the keys are years and the values are the percentage change between the key\n",
    "    year and the year previous\n",
    "    '''\n",
    "    percentages = {}\n",
    "    keys_list = list(input_dict) # creates list of keys that can be indexed into\n",
    "    index = 0\n",
    "    while index+1 < len(keys_list):\n",
    "        #rounding percentages to 3 decimal places\n",
    "        percentages[keys_list[index+1]] = round((input_dict[keys_list[index+1]] - input_dict[keys_list[index]])/input_dict[keys_list[index]], 3)*100\n",
    "        index += 1 \n",
    "    return percentages"
   ]
  },
  {
   "cell_type": "code",
   "execution_count": 42,
   "metadata": {},
   "outputs": [],
   "source": [
    "#updated list of functions thus far: \n",
    "def read_csv(file_name):\n",
    "    f = open(file_name, 'r')\n",
    "    a = f.read()\n",
    "    newline = a.split('\\n')\n",
    "    string_list = newline[1:]\n",
    "    final_list = []\n",
    "    for string in string_list:\n",
    "        int_fields = []\n",
    "        string_fields = string.split(',')\n",
    "        for value in string_fields:\n",
    "            number = int(value)\n",
    "            int_fields.append(number)\n",
    "        final_list.append(int_fields)\n",
    "    return final_list\n",
    "\n",
    "def calc_counts(data, column):\n",
    "    '''\n",
    "    data is a list of lists\n",
    "    column is an integer (index) representing the column by which the births should tallied\n",
    "    function returns a dictionary where the keys are column values and the values are the total births\n",
    "    '''\n",
    "    calc_dict = {}\n",
    "    for item in data:\n",
    "        if item[column] in calc_dict.keys():\n",
    "            calc_dict[item[column]] += item[4]\n",
    "        else:\n",
    "            calc_dict[item[column]] = item[4]\n",
    "    return calc_dict\n",
    "\n",
    "def calc_total_sec_arg(data, group_by_index, count_index, count_value):\n",
    "    '''\n",
    "    data: list of lists\n",
    "    group_by_index: integer, index by which to group data totals, serve as keys in totals dictionary; name take from \n",
    "    GROUP BY SQL command\n",
    "    count_index: integer, secondary index by which totals are calculated; name taken from COUNT SQL command\n",
    "    count_value: integer, condition to be met to supplement totals; name taken from COUNT SQL command\n",
    "    \n",
    "    function returns a dictionary a totals calculated by the count_value and grouped by the group_by_index. \n",
    "    function should be used in lieu of calc_counts when an additional arg is needed to parse data, e.g. calculating\n",
    "        how many births occured in Jan between 1994 and 2003.\n",
    "    '''\n",
    "    totals = {}\n",
    "    for item in data:\n",
    "        if item[count_index] == count_value:\n",
    "            if item[group_by_index] in totals.keys():\n",
    "                totals[item[group_by_index]] += item[4]\n",
    "            else:\n",
    "                totals[item[group_by_index]] = item[4]\n",
    "    return totals\n",
    "\n",
    "def minimum_calc(dict):\n",
    "    temp = []\n",
    "    for value in dict.values():\n",
    "        temp.append(value)\n",
    "    return min(temp)\n",
    "\n",
    "def maximum_calc(dict):\n",
    "    temp = []\n",
    "    for value in dict.values():\n",
    "        temp.append(value)\n",
    "    return max(temp)\n",
    "\n",
    "def percentage_change_calc(input_dict):\n",
    "    '''\n",
    "    function that extracts the same values across years and calculates the differences between consecutive values \n",
    "    to show if number of births is increasing or decreasing\n",
    "    \n",
    "    data: list of lists\n",
    "    date_value: integer that stands for the date value by which one wishes to calculate percentages; for example, 3\n",
    "        would represent March if one was looking at months\n",
    "    column_index: postive integer representing the column in which the constraint is located\n",
    "    \n",
    "    function returns a dictionary where the keys are years and the values are the percentage change between the key\n",
    "    year and the year previous\n",
    "    '''\n",
    "    percentages = {}\n",
    "    keys_list = list(input_dict) # creates list of keys that can be indexed into\n",
    "    index = 0\n",
    "    while index+1 < len(keys_list):\n",
    "        #rounding percentages to 4 decimal places\n",
    "        percentages[keys_list[index+1]] = round((input_dict[keys_list[index+1]] - input_dict[keys_list[index]])/input_dict[keys_list[index]], 4)*100\n",
    "        index += 1 \n",
    "    return percentages"
   ]
  },
  {
   "cell_type": "code",
   "execution_count": 44,
   "metadata": {},
   "outputs": [],
   "source": [
    "#back to the problem at hand: dealing with the two data sets\n",
    "def merge_results(dict1, dict2):\n",
    "    '''\n",
    "    dict1, dict2: dictionaries with integer values and some overlapping keys\n",
    "    \n",
    "    function returns a dictionary that has combined the two datasets together; where keys from both dicts overlap, an\n",
    "    average of the original values is returned\n",
    "    '''\n",
    "    # copy one dictionary to the result dictionary\n",
    "    result = dict1.copy()\n",
    "    # add dict2 in one entry at a time, \n",
    "    for key in dict2:\n",
    "        if key in result:\n",
    "            #add an average of the values from both datasets, round to 4 digits\n",
    "            result[key] = round((result[key] + dict2[key]) / 2, 4)\n",
    "        else:\n",
    "            #else just add the item to the result dictionary\n",
    "            result[key] = dict2[key]\n",
    "    return result"
   ]
  },
  {
   "cell_type": "code",
   "execution_count": 46,
   "metadata": {},
   "outputs": [
    {
     "data": {
      "text/plain": [
       "{1: 1, 2: 2, 3: 4.0, 4: 3.0, 5: 4, 6: 7}"
      ]
     },
     "execution_count": 46,
     "metadata": {},
     "output_type": "execute_result"
    }
   ],
   "source": [
    "#testing merge_results with simple dictionaries\n",
    "test_dict1 = {1: 1, 2: 2, 3: 3, 4: 4}\n",
    "test_dict2 = {3: 5, 4: 2, 5: 4, 6: 7}\n",
    "\n",
    "#expected to return: {1:1, 2:2, 3:4, 4:2, 5:4, 6:7}\n",
    "test_merge = merge_results(test_dict1, test_dict2)\n",
    "test_merge"
   ]
  },
  {
   "cell_type": "code",
   "execution_count": 47,
   "metadata": {},
   "outputs": [],
   "source": [
    "cdc_year_births = calc_counts(cdc_data, 0)\n",
    "ssa_year_births = calc_counts(ssa_data, 0)"
   ]
  },
  {
   "cell_type": "code",
   "execution_count": 48,
   "metadata": {},
   "outputs": [
    {
     "data": {
      "text/plain": [
       "{1994: 3952767,\n",
       " 1995: 3899589,\n",
       " 1996: 3891494,\n",
       " 1997: 3880894,\n",
       " 1998: 3941553,\n",
       " 1999: 3959417,\n",
       " 2000: 4058814,\n",
       " 2001: 4025933,\n",
       " 2002: 4021726,\n",
       " 2003: 4089950}"
      ]
     },
     "execution_count": 48,
     "metadata": {},
     "output_type": "execute_result"
    }
   ],
   "source": [
    "cdc_year_births"
   ]
  },
  {
   "cell_type": "code",
   "execution_count": 49,
   "metadata": {},
   "outputs": [
    {
     "data": {
      "text/plain": [
       "{1994: 3952767,\n",
       " 1995: 3899589,\n",
       " 1996: 3891494,\n",
       " 1997: 3880894,\n",
       " 1998: 3941553,\n",
       " 1999: 3959417,\n",
       " 2000: 4058814,\n",
       " 2001: 4025933,\n",
       " 2002: 4021726,\n",
       " 2003: 4089950}"
      ]
     },
     "execution_count": 49,
     "metadata": {},
     "output_type": "execute_result"
    }
   ],
   "source": [
    "cdc_year_births"
   ]
  },
  {
   "cell_type": "code",
   "execution_count": 50,
   "metadata": {},
   "outputs": [],
   "source": [
    "cdc_ssa_year_births = merge_results(cdc_year_births, ssa_year_births)"
   ]
  },
  {
   "cell_type": "code",
   "execution_count": 51,
   "metadata": {},
   "outputs": [
    {
     "data": {
      "text/plain": [
       "{1994: 3952767,\n",
       " 1995: 3899589,\n",
       " 1996: 3891494,\n",
       " 1997: 3880894,\n",
       " 1998: 3941553,\n",
       " 1999: 3959417,\n",
       " 2000: 4104206.0,\n",
       " 2001: 4068448.0,\n",
       " 2002: 4060519.5,\n",
       " 2003: 4126505.0,\n",
       " 2004: 4186863,\n",
       " 2005: 4211941,\n",
       " 2006: 4335154,\n",
       " 2007: 4380784,\n",
       " 2008: 4310737,\n",
       " 2009: 4190991,\n",
       " 2010: 4055975,\n",
       " 2011: 4006908,\n",
       " 2012: 4000868,\n",
       " 2013: 3973337,\n",
       " 2014: 4010532}"
      ]
     },
     "execution_count": 51,
     "metadata": {},
     "output_type": "execute_result"
    }
   ],
   "source": [
    "cdc_ssa_year_births"
   ]
  },
  {
   "cell_type": "code",
   "execution_count": null,
   "metadata": {},
   "outputs": [],
   "source": []
  }
 ],
 "metadata": {
  "kernelspec": {
   "display_name": "Python 3",
   "language": "python",
   "name": "python3"
  },
  "language_info": {
   "codemirror_mode": {
    "name": "ipython",
    "version": 3
   },
   "file_extension": ".py",
   "mimetype": "text/x-python",
   "name": "python",
   "nbconvert_exporter": "python",
   "pygments_lexer": "ipython3",
   "version": "3.6.4"
  }
 },
 "nbformat": 4,
 "nbformat_minor": 2
}
